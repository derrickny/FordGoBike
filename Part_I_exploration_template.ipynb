{
 "cells": [
  {
   "cell_type": "markdown",
   "metadata": {},
   "source": [
    "# Part I - FordGOBike Visualization\n",
    "## by Nyaga Derrick\n",
    "\n",
    "\n",
    "\n",
    "## Introduction\n",
    "\n",
    "In the San Francisco Bay Area of California, there is a regional public bicycle sharing program called Bay Wheels (FordGoBike). The Bay Wheels system, which launched as Bay Area Bike Share in August 2013 and currently has more than 2,600 bicycles in 262 stations throughout San Francisco, the East Bay, and San Jose. In collaboration with the Metropolitan Transportation Commission and the Bay Area Air Quality Management District, Motivate manages the system. The first regional and extensive bicycle sharing program to be implemented on the West Coast of the United States is called Bay Wheels.\n",
    "\n",
    "Bay Wheels is a public bicycle system, or bike-share program, that makes bicycles available to anyone for short-term shared use, either for a fee or free. Many bike share programs enable users to pick up a bike at one \"dock\" and return it to another dock that is a part of the same program. Docks are specialized bike stands that lock the bicycle and can only be opened by a computer. The computer unlocks a bike once the user provides payment information. When the user returns the bike, it is locked in place by the dock. There are dockless systems. Numerous systems use smartphone mapping applications to display nearby bicycles and open docks.\n",
    "\n",
    "We will Warangle and explore BayWheel's trip data which is available for public use Bay wheel's trip data is anonymized for security purposes \n",
    "     \n",
    "       \n",
    "       \n",
    "\n",
    "## Preliminary Wrangling\n"
   ]
  },
  {
   "cell_type": "code",
   "execution_count": 43,
   "metadata": {},
   "outputs": [],
   "source": [
    "# import all packages and set plots to be embedded inline\n",
    "import numpy as np\n",
    "import pandas as pd\n",
    "import matplotlib.pyplot as plt\n",
    "import seaborn as sb\n",
    "import os\n",
    "import warnings\n",
    "warnings.filterwarnings('ignore')\n",
    "\n",
    "%matplotlib inline"
   ]
  },
  {
   "cell_type": "markdown",
   "metadata": {},
   "source": [
    "# Gathering\n"
   ]
  },
  {
   "cell_type": "code",
   "execution_count": 44,
   "metadata": {},
   "outputs": [],
   "source": [
    "# load in the dataset into a pandas dataframe\n",
    "df = pd.read_csv('201902-fordgobike-tripdata.csv')"
   ]
  },
  {
   "cell_type": "code",
   "execution_count": 45,
   "metadata": {},
   "outputs": [
    {
     "name": "stdout",
     "output_type": "stream",
     "text": [
      "(183412, 16) \n",
      "\n",
      "duration_sec                 int64\n",
      "start_time                  object\n",
      "end_time                    object\n",
      "start_station_id           float64\n",
      "start_station_name          object\n",
      "start_station_latitude     float64\n",
      "start_station_longitude    float64\n",
      "end_station_id             float64\n",
      "end_station_name            object\n",
      "end_station_latitude       float64\n",
      "end_station_longitude      float64\n",
      "bike_id                      int64\n",
      "user_type                   object\n",
      "member_birth_year          float64\n",
      "member_gender               object\n",
      "bike_share_for_all_trip     object\n",
      "dtype: object \n",
      "\n"
     ]
    },
    {
     "data": {
      "text/html": [
       "<div>\n",
       "<style scoped>\n",
       "    .dataframe tbody tr th:only-of-type {\n",
       "        vertical-align: middle;\n",
       "    }\n",
       "\n",
       "    .dataframe tbody tr th {\n",
       "        vertical-align: top;\n",
       "    }\n",
       "\n",
       "    .dataframe thead th {\n",
       "        text-align: right;\n",
       "    }\n",
       "</style>\n",
       "<table border=\"1\" class=\"dataframe\">\n",
       "  <thead>\n",
       "    <tr style=\"text-align: right;\">\n",
       "      <th></th>\n",
       "      <th>duration_sec</th>\n",
       "      <th>start_time</th>\n",
       "      <th>end_time</th>\n",
       "      <th>start_station_id</th>\n",
       "      <th>start_station_name</th>\n",
       "      <th>start_station_latitude</th>\n",
       "      <th>start_station_longitude</th>\n",
       "      <th>end_station_id</th>\n",
       "      <th>end_station_name</th>\n",
       "      <th>end_station_latitude</th>\n",
       "      <th>end_station_longitude</th>\n",
       "      <th>bike_id</th>\n",
       "      <th>user_type</th>\n",
       "      <th>member_birth_year</th>\n",
       "      <th>member_gender</th>\n",
       "      <th>bike_share_for_all_trip</th>\n",
       "    </tr>\n",
       "  </thead>\n",
       "  <tbody>\n",
       "    <tr>\n",
       "      <th>0</th>\n",
       "      <td>52185</td>\n",
       "      <td>2019-02-28 17:32:10.1450</td>\n",
       "      <td>2019-03-01 08:01:55.9750</td>\n",
       "      <td>21.0</td>\n",
       "      <td>Montgomery St BART Station (Market St at 2nd St)</td>\n",
       "      <td>37.789625</td>\n",
       "      <td>-122.400811</td>\n",
       "      <td>13.0</td>\n",
       "      <td>Commercial St at Montgomery St</td>\n",
       "      <td>37.794231</td>\n",
       "      <td>-122.402923</td>\n",
       "      <td>4902</td>\n",
       "      <td>Customer</td>\n",
       "      <td>1984.0</td>\n",
       "      <td>Male</td>\n",
       "      <td>No</td>\n",
       "    </tr>\n",
       "    <tr>\n",
       "      <th>1</th>\n",
       "      <td>42521</td>\n",
       "      <td>2019-02-28 18:53:21.7890</td>\n",
       "      <td>2019-03-01 06:42:03.0560</td>\n",
       "      <td>23.0</td>\n",
       "      <td>The Embarcadero at Steuart St</td>\n",
       "      <td>37.791464</td>\n",
       "      <td>-122.391034</td>\n",
       "      <td>81.0</td>\n",
       "      <td>Berry St at 4th St</td>\n",
       "      <td>37.775880</td>\n",
       "      <td>-122.393170</td>\n",
       "      <td>2535</td>\n",
       "      <td>Customer</td>\n",
       "      <td>NaN</td>\n",
       "      <td>NaN</td>\n",
       "      <td>No</td>\n",
       "    </tr>\n",
       "    <tr>\n",
       "      <th>2</th>\n",
       "      <td>61854</td>\n",
       "      <td>2019-02-28 12:13:13.2180</td>\n",
       "      <td>2019-03-01 05:24:08.1460</td>\n",
       "      <td>86.0</td>\n",
       "      <td>Market St at Dolores St</td>\n",
       "      <td>37.769305</td>\n",
       "      <td>-122.426826</td>\n",
       "      <td>3.0</td>\n",
       "      <td>Powell St BART Station (Market St at 4th St)</td>\n",
       "      <td>37.786375</td>\n",
       "      <td>-122.404904</td>\n",
       "      <td>5905</td>\n",
       "      <td>Customer</td>\n",
       "      <td>1972.0</td>\n",
       "      <td>Male</td>\n",
       "      <td>No</td>\n",
       "    </tr>\n",
       "    <tr>\n",
       "      <th>3</th>\n",
       "      <td>36490</td>\n",
       "      <td>2019-02-28 17:54:26.0100</td>\n",
       "      <td>2019-03-01 04:02:36.8420</td>\n",
       "      <td>375.0</td>\n",
       "      <td>Grove St at Masonic Ave</td>\n",
       "      <td>37.774836</td>\n",
       "      <td>-122.446546</td>\n",
       "      <td>70.0</td>\n",
       "      <td>Central Ave at Fell St</td>\n",
       "      <td>37.773311</td>\n",
       "      <td>-122.444293</td>\n",
       "      <td>6638</td>\n",
       "      <td>Subscriber</td>\n",
       "      <td>1989.0</td>\n",
       "      <td>Other</td>\n",
       "      <td>No</td>\n",
       "    </tr>\n",
       "    <tr>\n",
       "      <th>4</th>\n",
       "      <td>1585</td>\n",
       "      <td>2019-02-28 23:54:18.5490</td>\n",
       "      <td>2019-03-01 00:20:44.0740</td>\n",
       "      <td>7.0</td>\n",
       "      <td>Frank H Ogawa Plaza</td>\n",
       "      <td>37.804562</td>\n",
       "      <td>-122.271738</td>\n",
       "      <td>222.0</td>\n",
       "      <td>10th Ave at E 15th St</td>\n",
       "      <td>37.792714</td>\n",
       "      <td>-122.248780</td>\n",
       "      <td>4898</td>\n",
       "      <td>Subscriber</td>\n",
       "      <td>1974.0</td>\n",
       "      <td>Male</td>\n",
       "      <td>Yes</td>\n",
       "    </tr>\n",
       "  </tbody>\n",
       "</table>\n",
       "</div>"
      ],
      "text/plain": [
       "   duration_sec                start_time                  end_time  \\\n",
       "0         52185  2019-02-28 17:32:10.1450  2019-03-01 08:01:55.9750   \n",
       "1         42521  2019-02-28 18:53:21.7890  2019-03-01 06:42:03.0560   \n",
       "2         61854  2019-02-28 12:13:13.2180  2019-03-01 05:24:08.1460   \n",
       "3         36490  2019-02-28 17:54:26.0100  2019-03-01 04:02:36.8420   \n",
       "4          1585  2019-02-28 23:54:18.5490  2019-03-01 00:20:44.0740   \n",
       "\n",
       "   start_station_id                                start_station_name  \\\n",
       "0              21.0  Montgomery St BART Station (Market St at 2nd St)   \n",
       "1              23.0                     The Embarcadero at Steuart St   \n",
       "2              86.0                           Market St at Dolores St   \n",
       "3             375.0                           Grove St at Masonic Ave   \n",
       "4               7.0                               Frank H Ogawa Plaza   \n",
       "\n",
       "   start_station_latitude  start_station_longitude  end_station_id  \\\n",
       "0               37.789625              -122.400811            13.0   \n",
       "1               37.791464              -122.391034            81.0   \n",
       "2               37.769305              -122.426826             3.0   \n",
       "3               37.774836              -122.446546            70.0   \n",
       "4               37.804562              -122.271738           222.0   \n",
       "\n",
       "                               end_station_name  end_station_latitude  \\\n",
       "0                Commercial St at Montgomery St             37.794231   \n",
       "1                            Berry St at 4th St             37.775880   \n",
       "2  Powell St BART Station (Market St at 4th St)             37.786375   \n",
       "3                        Central Ave at Fell St             37.773311   \n",
       "4                         10th Ave at E 15th St             37.792714   \n",
       "\n",
       "   end_station_longitude  bike_id   user_type  member_birth_year  \\\n",
       "0            -122.402923     4902    Customer             1984.0   \n",
       "1            -122.393170     2535    Customer                NaN   \n",
       "2            -122.404904     5905    Customer             1972.0   \n",
       "3            -122.444293     6638  Subscriber             1989.0   \n",
       "4            -122.248780     4898  Subscriber             1974.0   \n",
       "\n",
       "  member_gender bike_share_for_all_trip  \n",
       "0          Male                      No  \n",
       "1           NaN                      No  \n",
       "2          Male                      No  \n",
       "3         Other                      No  \n",
       "4          Male                     Yes  "
      ]
     },
     "metadata": {},
     "output_type": "display_data"
    }
   ],
   "source": [
    "# orginzed way of viewing data shape and composition\n",
    "print(df.shape,\"\\n\")\n",
    "print(df.dtypes,\"\\n\")\n",
    "display(df.head(5))"
   ]
  },
  {
   "cell_type": "code",
   "execution_count": 46,
   "metadata": {},
   "outputs": [
    {
     "data": {
      "text/plain": [
       "0"
      ]
     },
     "execution_count": 46,
     "metadata": {},
     "output_type": "execute_result"
    }
   ],
   "source": [
    "# Checking for sum of duplicated values\n",
    "df.duplicated().sum()"
   ]
  },
  {
   "cell_type": "code",
   "execution_count": 47,
   "metadata": {},
   "outputs": [
    {
     "data": {
      "text/plain": [
       "duration_sec               0.000000\n",
       "start_time                 0.000000\n",
       "end_time                   0.000000\n",
       "start_station_id           0.107408\n",
       "start_station_name         0.107408\n",
       "start_station_latitude     0.000000\n",
       "start_station_longitude    0.000000\n",
       "end_station_id             0.107408\n",
       "end_station_name           0.107408\n",
       "end_station_latitude       0.000000\n",
       "end_station_longitude      0.000000\n",
       "bike_id                    0.000000\n",
       "user_type                  0.000000\n",
       "member_birth_year          4.506248\n",
       "member_gender              4.506248\n",
       "bike_share_for_all_trip    0.000000\n",
       "dtype: float64"
      ]
     },
     "metadata": {},
     "output_type": "display_data"
    }
   ],
   "source": [
    "# checking % of missing values\n",
    "missing_sum = (df.isnull().sum()/df.isnull().count()) *100\n",
    "\n",
    "display(missing_sum)"
   ]
  },
  {
   "cell_type": "markdown",
   "metadata": {},
   "source": [
    "### What is the structure of your dataset?\n",
    "\n",
    "> The data set as 183412 rides with  16 features that are the columns.They include. \n",
    "- duration_sec               \n",
    "- start_time                 \n",
    "- end_time                  \n",
    "- start_station_id          \n",
    "- start_station_name       \n",
    "- start_station_latitude     \n",
    "- start_station_longitude   \n",
    "- end_station_id            \n",
    "- end_station_name           \n",
    "- end_station_latitude       \n",
    "- end_station_longitude      \n",
    "- bike_id                    \n",
    "- user_type                  \n",
    "- member_birth_year          \n",
    "- member_gender              \n",
    "- bike_share_for_all_trip    \n",
    "\n",
    "\n",
    "Most Variables are numeric in nature while others like start_time and end_time have wrong data types instead of datatime \n",
    "\n",
    "Also,some variables had missing values with the following %:\n",
    "\n",
    "- member_birth_year          4.506248\n",
    "- member_gender              4.506248\n",
    "- start_station_id           0.107408\n",
    "- start_station_name         0.107408\n",
    "- end_station_id             0.107408\n",
    "- end_station_name           0.107408\n",
    "\n",
    "\n",
    "\n",
    "### What is/are the main feature(s) of interest in your dataset?\n",
    "\n",
    "> My interest is to know:\n",
    "1. How long does the average trip take ?\n",
    "2. The time of day, day of the week that most trips are taken \n",
    "3. if the above depend on a user being a subscriber or customer\n",
    "\n",
    "The main features that are i will use are- duration_sec, member_gender, user_type, member_birth_year, start time.\n",
    "\n",
    "### What features in the dataset do you think will help support your investigation into your feature(s) of interest?\n",
    "\n",
    "> Extracting the time of the day and the day of the week from the start time will, in my opinion, serve to address the first aim described above with the aid of additional feature engineering from the major features of interest. Additionally, it may be anticipated that the user type would be able to assist with the third objective before the duration sec with the second. Additionally, elements like member gender and member birth year would be very helpful in assisting my research."
   ]
  },
  {
   "cell_type": "code",
   "execution_count": 48,
   "metadata": {},
   "outputs": [],
   "source": [
    "# make a copy of the original dataset\n",
    "df_new = df.copy()"
   ]
  },
  {
   "cell_type": "code",
   "execution_count": 49,
   "metadata": {},
   "outputs": [
    {
     "data": {
      "text/html": [
       "<div>\n",
       "<style scoped>\n",
       "    .dataframe tbody tr th:only-of-type {\n",
       "        vertical-align: middle;\n",
       "    }\n",
       "\n",
       "    .dataframe tbody tr th {\n",
       "        vertical-align: top;\n",
       "    }\n",
       "\n",
       "    .dataframe thead th {\n",
       "        text-align: right;\n",
       "    }\n",
       "</style>\n",
       "<table border=\"1\" class=\"dataframe\">\n",
       "  <thead>\n",
       "    <tr style=\"text-align: right;\">\n",
       "      <th></th>\n",
       "      <th>duration_sec</th>\n",
       "      <th>start_time</th>\n",
       "      <th>end_time</th>\n",
       "      <th>start_station_name</th>\n",
       "      <th>end_station_name</th>\n",
       "      <th>user_type</th>\n",
       "      <th>member_birth_year</th>\n",
       "      <th>member_gender</th>\n",
       "    </tr>\n",
       "  </thead>\n",
       "  <tbody>\n",
       "    <tr>\n",
       "      <th>0</th>\n",
       "      <td>52185</td>\n",
       "      <td>2019-02-28 17:32:10.1450</td>\n",
       "      <td>2019-03-01 08:01:55.9750</td>\n",
       "      <td>Montgomery St BART Station (Market St at 2nd St)</td>\n",
       "      <td>Commercial St at Montgomery St</td>\n",
       "      <td>Customer</td>\n",
       "      <td>1984.0</td>\n",
       "      <td>Male</td>\n",
       "    </tr>\n",
       "    <tr>\n",
       "      <th>1</th>\n",
       "      <td>42521</td>\n",
       "      <td>2019-02-28 18:53:21.7890</td>\n",
       "      <td>2019-03-01 06:42:03.0560</td>\n",
       "      <td>The Embarcadero at Steuart St</td>\n",
       "      <td>Berry St at 4th St</td>\n",
       "      <td>Customer</td>\n",
       "      <td>NaN</td>\n",
       "      <td>NaN</td>\n",
       "    </tr>\n",
       "    <tr>\n",
       "      <th>2</th>\n",
       "      <td>61854</td>\n",
       "      <td>2019-02-28 12:13:13.2180</td>\n",
       "      <td>2019-03-01 05:24:08.1460</td>\n",
       "      <td>Market St at Dolores St</td>\n",
       "      <td>Powell St BART Station (Market St at 4th St)</td>\n",
       "      <td>Customer</td>\n",
       "      <td>1972.0</td>\n",
       "      <td>Male</td>\n",
       "    </tr>\n",
       "    <tr>\n",
       "      <th>3</th>\n",
       "      <td>36490</td>\n",
       "      <td>2019-02-28 17:54:26.0100</td>\n",
       "      <td>2019-03-01 04:02:36.8420</td>\n",
       "      <td>Grove St at Masonic Ave</td>\n",
       "      <td>Central Ave at Fell St</td>\n",
       "      <td>Subscriber</td>\n",
       "      <td>1989.0</td>\n",
       "      <td>Other</td>\n",
       "    </tr>\n",
       "    <tr>\n",
       "      <th>4</th>\n",
       "      <td>1585</td>\n",
       "      <td>2019-02-28 23:54:18.5490</td>\n",
       "      <td>2019-03-01 00:20:44.0740</td>\n",
       "      <td>Frank H Ogawa Plaza</td>\n",
       "      <td>10th Ave at E 15th St</td>\n",
       "      <td>Subscriber</td>\n",
       "      <td>1974.0</td>\n",
       "      <td>Male</td>\n",
       "    </tr>\n",
       "  </tbody>\n",
       "</table>\n",
       "</div>"
      ],
      "text/plain": [
       "   duration_sec                start_time                  end_time  \\\n",
       "0         52185  2019-02-28 17:32:10.1450  2019-03-01 08:01:55.9750   \n",
       "1         42521  2019-02-28 18:53:21.7890  2019-03-01 06:42:03.0560   \n",
       "2         61854  2019-02-28 12:13:13.2180  2019-03-01 05:24:08.1460   \n",
       "3         36490  2019-02-28 17:54:26.0100  2019-03-01 04:02:36.8420   \n",
       "4          1585  2019-02-28 23:54:18.5490  2019-03-01 00:20:44.0740   \n",
       "\n",
       "                                 start_station_name  \\\n",
       "0  Montgomery St BART Station (Market St at 2nd St)   \n",
       "1                     The Embarcadero at Steuart St   \n",
       "2                           Market St at Dolores St   \n",
       "3                           Grove St at Masonic Ave   \n",
       "4                               Frank H Ogawa Plaza   \n",
       "\n",
       "                               end_station_name   user_type  \\\n",
       "0                Commercial St at Montgomery St    Customer   \n",
       "1                            Berry St at 4th St    Customer   \n",
       "2  Powell St BART Station (Market St at 4th St)    Customer   \n",
       "3                        Central Ave at Fell St  Subscriber   \n",
       "4                         10th Ave at E 15th St  Subscriber   \n",
       "\n",
       "   member_birth_year member_gender  \n",
       "0             1984.0          Male  \n",
       "1                NaN           NaN  \n",
       "2             1972.0          Male  \n",
       "3             1989.0         Other  \n",
       "4             1974.0          Male  "
      ]
     },
     "execution_count": 49,
     "metadata": {},
     "output_type": "execute_result"
    }
   ],
   "source": [
    "#lets drop irrelevant columns(variables) to my analysis\n",
    "df_new.drop(['start_station_id','start_station_latitude' ,'start_station_longitude', 'end_station_id','end_station_latitude', 'end_station_longitude', 'bike_id', \n",
    "        'bike_share_for_all_trip'] , axis=1, inplace =True)\n",
    "df_new.head()"
   ]
  },
  {
   "cell_type": "code",
   "execution_count": 50,
   "metadata": {},
   "outputs": [],
   "source": [
    "#fix the data types issue in start time\n",
    "df_new['start_time'] = pd.to_datetime(df_new['start_time'])\n",
    "df_new['end_time'] = pd.to_datetime(df_new['end_time'])"
   ]
  },
  {
   "cell_type": "code",
   "execution_count": 51,
   "metadata": {},
   "outputs": [
    {
     "data": {
      "text/html": [
       "<div>\n",
       "<style scoped>\n",
       "    .dataframe tbody tr th:only-of-type {\n",
       "        vertical-align: middle;\n",
       "    }\n",
       "\n",
       "    .dataframe tbody tr th {\n",
       "        vertical-align: top;\n",
       "    }\n",
       "\n",
       "    .dataframe thead th {\n",
       "        text-align: right;\n",
       "    }\n",
       "</style>\n",
       "<table border=\"1\" class=\"dataframe\">\n",
       "  <thead>\n",
       "    <tr style=\"text-align: right;\">\n",
       "      <th></th>\n",
       "      <th>day_of_week</th>\n",
       "      <th>start_hour</th>\n",
       "      <th>time_of_day</th>\n",
       "    </tr>\n",
       "  </thead>\n",
       "  <tbody>\n",
       "    <tr>\n",
       "      <th>0</th>\n",
       "      <td>Thursday</td>\n",
       "      <td>17</td>\n",
       "      <td>Afternoon</td>\n",
       "    </tr>\n",
       "    <tr>\n",
       "      <th>1</th>\n",
       "      <td>Thursday</td>\n",
       "      <td>18</td>\n",
       "      <td>Night</td>\n",
       "    </tr>\n",
       "    <tr>\n",
       "      <th>2</th>\n",
       "      <td>Thursday</td>\n",
       "      <td>12</td>\n",
       "      <td>Afternoon</td>\n",
       "    </tr>\n",
       "    <tr>\n",
       "      <th>3</th>\n",
       "      <td>Thursday</td>\n",
       "      <td>17</td>\n",
       "      <td>Afternoon</td>\n",
       "    </tr>\n",
       "    <tr>\n",
       "      <th>4</th>\n",
       "      <td>Thursday</td>\n",
       "      <td>23</td>\n",
       "      <td>Night</td>\n",
       "    </tr>\n",
       "  </tbody>\n",
       "</table>\n",
       "</div>"
      ],
      "text/plain": [
       "  day_of_week  start_hour time_of_day\n",
       "0    Thursday          17   Afternoon\n",
       "1    Thursday          18       Night\n",
       "2    Thursday          12   Afternoon\n",
       "3    Thursday          17   Afternoon\n",
       "4    Thursday          23       Night"
      ]
     },
     "metadata": {},
     "output_type": "display_data"
    }
   ],
   "source": [
    "#extract the day of the week \n",
    "df_new['day_of_week'] = pd.DatetimeIndex(df_new['start_time']).strftime('%A')\n",
    "#extract the time of the day\n",
    "df_new['start_hour'] = df_new['start_time'].apply(lambda time: time.hour)\n",
    "df_new['time_of_day'] = 'Morning'\n",
    "df_new['time_of_day'][(df_new['start_hour'] >= 12) & (df_new['start_hour'] <= 17)]='Afternoon'\n",
    "df_new['time_of_day'][(df_new['start_hour'] >= 18) & (df_new['start_hour'] <= 23)]='Night'\n",
    "\n",
    "#show the columns\n",
    "display(df_new[['day_of_week','start_hour','time_of_day']].head())"
   ]
  },
  {
   "cell_type": "code",
   "execution_count": 52,
   "metadata": {},
   "outputs": [
    {
     "data": {
      "text/html": [
       "<div>\n",
       "<style scoped>\n",
       "    .dataframe tbody tr th:only-of-type {\n",
       "        vertical-align: middle;\n",
       "    }\n",
       "\n",
       "    .dataframe tbody tr th {\n",
       "        vertical-align: top;\n",
       "    }\n",
       "\n",
       "    .dataframe thead th {\n",
       "        text-align: right;\n",
       "    }\n",
       "</style>\n",
       "<table border=\"1\" class=\"dataframe\">\n",
       "  <thead>\n",
       "    <tr style=\"text-align: right;\">\n",
       "      <th></th>\n",
       "      <th>duration_sec</th>\n",
       "      <th>start_time</th>\n",
       "      <th>end_time</th>\n",
       "      <th>start_station_name</th>\n",
       "      <th>end_station_name</th>\n",
       "      <th>user_type</th>\n",
       "      <th>member_birth_year</th>\n",
       "      <th>member_gender</th>\n",
       "      <th>day_of_week</th>\n",
       "      <th>start_hour</th>\n",
       "      <th>time_of_day</th>\n",
       "    </tr>\n",
       "  </thead>\n",
       "  <tbody>\n",
       "    <tr>\n",
       "      <th>0</th>\n",
       "      <td>52185</td>\n",
       "      <td>2019-02-28 17:32:10.145</td>\n",
       "      <td>2019-03-01 08:01:55.975</td>\n",
       "      <td>Montgomery St BART Station (Market St at 2nd St)</td>\n",
       "      <td>Commercial St at Montgomery St</td>\n",
       "      <td>Customer</td>\n",
       "      <td>1984.0</td>\n",
       "      <td>Male</td>\n",
       "      <td>Thursday</td>\n",
       "      <td>17</td>\n",
       "      <td>Afternoon</td>\n",
       "    </tr>\n",
       "    <tr>\n",
       "      <th>1</th>\n",
       "      <td>42521</td>\n",
       "      <td>2019-02-28 18:53:21.789</td>\n",
       "      <td>2019-03-01 06:42:03.056</td>\n",
       "      <td>The Embarcadero at Steuart St</td>\n",
       "      <td>Berry St at 4th St</td>\n",
       "      <td>Customer</td>\n",
       "      <td>NaN</td>\n",
       "      <td>NaN</td>\n",
       "      <td>Thursday</td>\n",
       "      <td>18</td>\n",
       "      <td>Night</td>\n",
       "    </tr>\n",
       "    <tr>\n",
       "      <th>2</th>\n",
       "      <td>61854</td>\n",
       "      <td>2019-02-28 12:13:13.218</td>\n",
       "      <td>2019-03-01 05:24:08.146</td>\n",
       "      <td>Market St at Dolores St</td>\n",
       "      <td>Powell St BART Station (Market St at 4th St)</td>\n",
       "      <td>Customer</td>\n",
       "      <td>1972.0</td>\n",
       "      <td>Male</td>\n",
       "      <td>Thursday</td>\n",
       "      <td>12</td>\n",
       "      <td>Afternoon</td>\n",
       "    </tr>\n",
       "    <tr>\n",
       "      <th>3</th>\n",
       "      <td>36490</td>\n",
       "      <td>2019-02-28 17:54:26.010</td>\n",
       "      <td>2019-03-01 04:02:36.842</td>\n",
       "      <td>Grove St at Masonic Ave</td>\n",
       "      <td>Central Ave at Fell St</td>\n",
       "      <td>Subscriber</td>\n",
       "      <td>1989.0</td>\n",
       "      <td>Other</td>\n",
       "      <td>Thursday</td>\n",
       "      <td>17</td>\n",
       "      <td>Afternoon</td>\n",
       "    </tr>\n",
       "    <tr>\n",
       "      <th>4</th>\n",
       "      <td>1585</td>\n",
       "      <td>2019-02-28 23:54:18.549</td>\n",
       "      <td>2019-03-01 00:20:44.074</td>\n",
       "      <td>Frank H Ogawa Plaza</td>\n",
       "      <td>10th Ave at E 15th St</td>\n",
       "      <td>Subscriber</td>\n",
       "      <td>1974.0</td>\n",
       "      <td>Male</td>\n",
       "      <td>Thursday</td>\n",
       "      <td>23</td>\n",
       "      <td>Night</td>\n",
       "    </tr>\n",
       "  </tbody>\n",
       "</table>\n",
       "</div>"
      ],
      "text/plain": [
       "   duration_sec              start_time                end_time  \\\n",
       "0         52185 2019-02-28 17:32:10.145 2019-03-01 08:01:55.975   \n",
       "1         42521 2019-02-28 18:53:21.789 2019-03-01 06:42:03.056   \n",
       "2         61854 2019-02-28 12:13:13.218 2019-03-01 05:24:08.146   \n",
       "3         36490 2019-02-28 17:54:26.010 2019-03-01 04:02:36.842   \n",
       "4          1585 2019-02-28 23:54:18.549 2019-03-01 00:20:44.074   \n",
       "\n",
       "                                 start_station_name  \\\n",
       "0  Montgomery St BART Station (Market St at 2nd St)   \n",
       "1                     The Embarcadero at Steuart St   \n",
       "2                           Market St at Dolores St   \n",
       "3                           Grove St at Masonic Ave   \n",
       "4                               Frank H Ogawa Plaza   \n",
       "\n",
       "                               end_station_name   user_type  \\\n",
       "0                Commercial St at Montgomery St    Customer   \n",
       "1                            Berry St at 4th St    Customer   \n",
       "2  Powell St BART Station (Market St at 4th St)    Customer   \n",
       "3                        Central Ave at Fell St  Subscriber   \n",
       "4                         10th Ave at E 15th St  Subscriber   \n",
       "\n",
       "   member_birth_year member_gender day_of_week  start_hour time_of_day  \n",
       "0             1984.0          Male    Thursday          17   Afternoon  \n",
       "1                NaN           NaN    Thursday          18       Night  \n",
       "2             1972.0          Male    Thursday          12   Afternoon  \n",
       "3             1989.0         Other    Thursday          17   Afternoon  \n",
       "4             1974.0          Male    Thursday          23       Night  "
      ]
     },
     "metadata": {},
     "output_type": "display_data"
    }
   ],
   "source": [
    "# Lets View the new dataframe \n",
    "display(df_new.head())"
   ]
  },
  {
   "cell_type": "markdown",
   "metadata": {},
   "source": [
    "## Univariate Exploration\n",
    "\n",
    "> In this section, investigate distributions of individual variables. If\n",
    "you see unusual points or outliers, take a deeper look to clean things up\n",
    "and prepare yourself to look at relationships between variable \n"
   ]
  },
  {
   "cell_type": "markdown",
   "metadata": {},
   "source": [
    "lets start with looking at the distribution of the main variables of interest: duration_sec , time_of_day , user_type and day_of_week"
   ]
  },
  {
   "cell_type": "code",
   "execution_count": 53,
   "metadata": {},
   "outputs": [
    {
     "data": {
      "text/plain": [
       "Thursday     35197\n",
       "Tuesday      31813\n",
       "Wednesday    29641\n",
       "Friday       28981\n",
       "Monday       26852\n",
       "Sunday       15523\n",
       "Saturday     15405\n",
       "Name: day_of_week, dtype: int64"
      ]
     },
     "metadata": {},
     "output_type": "display_data"
    },
    {
     "data": {
      "image/png": "[encoded data removed]",
      "text/plain": [
       "<Figure size 576x360 with 1 Axes>"
      ]
     },
     "metadata": {
      "needs_background": "light"
     },
     "output_type": "display_data"
    }
   ],
   "source": [
    "# lets count of trips made in  day of the week \n",
    "display(df_new['day_of_week'].value_counts().sort_values(ascending=False))\n",
    "weekday = ['Monday', 'Tuesday', 'Wednesday', 'Thursday', 'Friday', 'Saturday', 'Sunday']\n",
    "# lets plot the distribution\n",
    "plt.figure(figsize=[8, 5])\n",
    "\n",
    "sb.countplot(data = df_new ,x ='day_of_week' ,order= weekday)\n",
    "plt.title('Trips by days of the week')\n",
    "plt.xlabel('Days')\n",
    "plt.show()\n"
   ]
  },
  {
   "cell_type": "markdown",
   "metadata": {},
   "source": [
    "It so happens that Thursday, Tuesday, and Wednesday are the days of the week with the most trips. The least number of travels are on Saturday and Sunday, which is understandable given that those days are off from work. As a result, I would be looking into how gender and user type are dispersed throughout the week."
   ]
  },
  {
   "cell_type": "code",
   "execution_count": 54,
   "metadata": {},
   "outputs": [
    {
     "name": "stdout",
     "output_type": "stream",
     "text": [
      "Percentage count trips made in terms of day(%)\n",
      "Afternoon    38.51\n",
      "Morning      38.42\n",
      "Night        23.07\n",
      "Name: time_of_day, dtype: float64\n"
     ]
    },
    {
     "data": {
      "image/png": "[encoded data removed]",
      "text/plain": [
       "<Figure size 576x360 with 1 Axes>"
      ]
     },
     "metadata": {
      "needs_background": "light"
     },
     "output_type": "display_data"
    }
   ],
   "source": [
    "# lets get the % count of trips in terms of times per day\n",
    "\n",
    "time_of_day_count =(df_new['time_of_day'].value_counts()/df_new['time_of_day'].count())*100\n",
    "print(\"Percentage count trips made in terms of day(%)\")\n",
    "print(time_of_day_count.round(2).sort_values(ascending = False))\n",
    "\n",
    "#lets plot the distribution\n",
    "plt.figure(figsize=[8,5])\n",
    "base_color = sb.color_palette()[0]\n",
    "sb.countplot(data = df_new , x ='time_of_day', color =base_color)\n",
    "points = df_new.shape[0]\n",
    "members_count = df_new['time_of_day'].value_counts()\n",
    "locs,lables = plt.xticks()\n",
    "\n",
    "#lets plot the Bar chart\n",
    "for loc, label in zip(locs,lables):\n",
    "    count= members_count[label.get_text()]\n",
    "    string = '{:0.1f}%'.format(100*count/points)\n",
    "    plt.text(loc, count-8,string, ha = 'center')\n",
    "    \n",
    "plt.title(\"Trips by Times Of The Day\")\n",
    "plt.xlabel('Times of the Day')\n",
    "plt.show()"
   ]
  },
  {
   "cell_type": "markdown",
   "metadata": {},
   "source": [
    "The plot reveals that the hour of the day with the most trips are in the afternoon (12:00–17:59), followed by the morning (00:00 - 11:59 hours of the day). The number of travels made in the two periods did not differ significantly, though. This makes a lot of sense. Nobody anticipates there to be so many rides at night. Further investigation will be conducted to determine whether this is likely influenced by user types (subscriber and customer),These is what we will plot next"
   ]
  },
  {
   "cell_type": "code",
   "execution_count": 76,
   "metadata": {},
   "outputs": [
    {
     "name": "stdout",
     "output_type": "stream",
     "text": [
      "User Types percentage count(%)\n"
     ]
    },
    {
     "data": {
      "text/plain": [
       "Subscriber    89.17\n",
       "Customer      10.83\n",
       "Name: user_type, dtype: float64"
      ]
     },
     "metadata": {},
     "output_type": "display_data"
    },
    {
     "name": "stdout",
     "output_type": "stream",
     "text": [
      "\n",
      "Member Gender Percentage count (%)\n"
     ]
    },
    {
     "data": {
      "text/plain": [
       "Male      74.60\n",
       "Female    23.32\n",
       "Other      2.09\n",
       "Name: member_gender, dtype: float64"
      ]
     },
     "metadata": {},
     "output_type": "display_data"
    },
    {
     "data": {
      "image/png": "[encoded data removed]",
      "text/plain": [
       "<Figure size 576x576 with 2 Axes>"
      ]
     },
     "metadata": {
      "needs_background": "light"
     },
     "output_type": "display_data"
    }
   ],
   "source": [
    "# Lets get the % count of user types and gender\n",
    "user_type_count = (df_new['user_type'].value_counts()/df_new['user_type'].count())*100\n",
    "member_gender_count = (df_new['member_gender'].value_counts()/df_new['member_gender'].count())*100\n",
    "\n",
    "print(\"User Types percentage count(%)\")\n",
    "display(user_type_count.round(2).sort_values(ascending= False))\n",
    "print(\"\\nMember Gender Percentage count (%)\")\n",
    "display(member_gender_count.round(2).sort_values(ascending=False))\n",
    "\n",
    "# The distribution of user type and gender\n",
    "fig, ax = plt.subplots(nrows=2, figsize= [8,8])\n",
    "color_d= sb.color_palette()[1]\n",
    "sb.countplot(data = df_new, x = 'user_type', color = color_d, ax = ax[0])\n",
    "sb.countplot(data = df_new, x ='member_gender', color = color_d,  ax = ax[1])\n",
    "ax[0].set_xlabel('user Type')\n",
    "ax[0].set_ylabel('count')\n",
    "ax[1].set_xlabel('Member Gender')\n",
    "ax[1].set_ylabel('Count')\n",
    "ax[0].set_title('Distributions of User Types and Gender');"
   ]
  },
  {
   "cell_type": "markdown",
   "metadata": {},
   "source": [
    "The majority of journeys (about 90%) are taken by subscribers, as would be expected in most circumstances, with the remaining 10% being made up of merely casual riders. Who wouldn't want to use their membership effectively if subscribers made a higher percentage of trips? Another possibility is that subscribers use the bikes for their everyday commutes while customers just use them for recreational activities.\n",
    "Additionally, men make up about 75% of travelers who have taken trips, roughly three times as many as women, with the remaining 2% being classified as other."
   ]
  },
  {
   "cell_type": "markdown",
   "metadata": {},
   "source": [
    "Now lets check out duration_sec Variable"
   ]
  },
  {
   "cell_type": "code",
   "execution_count": 56,
   "metadata": {},
   "outputs": [
    {
     "data": {
      "image/png": "[encoded data removed]",
      "text/plain": [
       "<Figure size 576x360 with 1 Axes>"
      ]
     },
     "metadata": {
      "needs_background": "light"
     },
     "output_type": "display_data"
    }
   ],
   "source": [
    "#lets have a standard-scaled plot\n",
    "size_b = 100\n",
    "bins = np.arange(0, df_new['duration_sec'].max()+size_b,size_b)\n",
    "\n",
    "plt.figure(figsize=[8, 5])\n",
    "plt.hist(data = df_new, x = 'duration_sec',bins=bins)\n",
    "plt.xlim(0,3000)\n",
    "plt.xlabel('Trip Duration (sec)')\n",
    "plt.ylabel('count')\n",
    "plt.title('Distribution of Trip Duration')\n",
    "plt.show()"
   ]
  },
  {
   "cell_type": "markdown",
   "metadata": {},
   "source": [
    "As per the plot above its highly skewed and its difficult to view hence i had size bin of 100 and set the x axis limit to 3000. i will convert the trip duration to minute instead of seconds and get to know the average of a trip"
   ]
  },
  {
   "cell_type": "code",
   "execution_count": 57,
   "metadata": {},
   "outputs": [
    {
     "data": {
      "text/html": [
       "<div>\n",
       "<style scoped>\n",
       "    .dataframe tbody tr th:only-of-type {\n",
       "        vertical-align: middle;\n",
       "    }\n",
       "\n",
       "    .dataframe tbody tr th {\n",
       "        vertical-align: top;\n",
       "    }\n",
       "\n",
       "    .dataframe thead th {\n",
       "        text-align: right;\n",
       "    }\n",
       "</style>\n",
       "<table border=\"1\" class=\"dataframe\">\n",
       "  <thead>\n",
       "    <tr style=\"text-align: right;\">\n",
       "      <th></th>\n",
       "      <th>duration_min</th>\n",
       "    </tr>\n",
       "  </thead>\n",
       "  <tbody>\n",
       "    <tr>\n",
       "      <th>0</th>\n",
       "      <td>869.750000</td>\n",
       "    </tr>\n",
       "    <tr>\n",
       "      <th>1</th>\n",
       "      <td>708.683333</td>\n",
       "    </tr>\n",
       "    <tr>\n",
       "      <th>2</th>\n",
       "      <td>1030.900000</td>\n",
       "    </tr>\n",
       "    <tr>\n",
       "      <th>3</th>\n",
       "      <td>608.166667</td>\n",
       "    </tr>\n",
       "    <tr>\n",
       "      <th>4</th>\n",
       "      <td>26.416667</td>\n",
       "    </tr>\n",
       "  </tbody>\n",
       "</table>\n",
       "</div>"
      ],
      "text/plain": [
       "   duration_min\n",
       "0    869.750000\n",
       "1    708.683333\n",
       "2   1030.900000\n",
       "3    608.166667\n",
       "4     26.416667"
      ]
     },
     "metadata": {},
     "output_type": "display_data"
    }
   ],
   "source": [
    "#converting the trip duration variable into minutes\n",
    "df_new['duration_min'] = df_new['duration_sec'] / 60\n",
    "\n",
    "#lets drop the duration column since we replacing it with duration_min\n",
    "df_new.drop('duration_sec', axis = 1, inplace = True)\n",
    "\n",
    "#lets display the new column\n",
    "display(df_new[['duration_min']].head())"
   ]
  },
  {
   "cell_type": "code",
   "execution_count": 58,
   "metadata": {},
   "outputs": [
    {
     "name": "stdout",
     "output_type": "stream",
     "text": [
      "The time duration of average trip taken is 12.1 minutes.\n"
     ]
    },
    {
     "data": {
      "image/png": "[encoded data removed]",
      "text/plain": [
       "<Figure size 576x360 with 1 Axes>"
      ]
     },
     "metadata": {
      "needs_background": "light"
     },
     "output_type": "display_data"
    }
   ],
   "source": [
    "# print the average trip duration\n",
    "average_trip_duration = np.round(df_new['duration_min'].mean(),2)\n",
    "print(\"The time duration of average trip taken is %s minutes.\"%(average_trip_duration))\n",
    "\n",
    "# trip duration distribution in log scale\n",
    "binsize = 0.1\n",
    "bins = 10 ** np.arange(0, np.log10(df_new['duration_min'].max())+binsize, binsize)\n",
    "ticks =  [ 0.1 , 0.3 , 1 , 3, 10, 30, 100, 300]\n",
    "labels = ['{}'.format(v) for v in ticks]\n",
    "\n",
    "plt.figure(figsize=[8, 5])\n",
    "plt.hist(data = df_new, x = 'duration_min',bins=bins)\n",
    "plt.xscale('log')\n",
    "plt.xticks(ticks, labels)\n",
    "plt.xlabel('Trip Duration (min)')\n",
    "plt.ylabel('count')\n",
    "plt.title('Distriution of Trip Duration in Log')\n",
    "plt.show()"
   ]
  },
  {
   "cell_type": "markdown",
   "metadata": {},
   "source": [
    "After plotting using log scale and having duration in mins we see that the duration picks at around 10 mins and the average trip duration in is 12mins"
   ]
  },
  {
   "cell_type": "markdown",
   "metadata": {},
   "source": [
    "Now lets look at other columns we see if we can explore them "
   ]
  },
  {
   "cell_type": "code",
   "execution_count": 59,
   "metadata": {},
   "outputs": [
    {
     "name": "stdout",
     "output_type": "stream",
     "text": [
      "percentage count of Starting hours\n",
      "17    11.92\n",
      "8     11.48\n",
      "18     9.17\n",
      "9      8.67\n",
      "16     7.73\n",
      "7      5.79\n",
      "19     5.39\n",
      "15     5.00\n",
      "12     4.76\n",
      "13     4.66\n",
      "10     4.56\n",
      "14     4.44\n",
      "11     4.30\n",
      "20     3.53\n",
      "21     2.49\n",
      "6      1.90\n",
      "22     1.59\n",
      "23     0.90\n",
      "0      0.50\n",
      "5      0.49\n",
      "1      0.30\n",
      "2      0.21\n",
      "4      0.13\n",
      "3      0.09\n",
      "Name: start_hour, dtype: float64\n"
     ]
    },
    {
     "data": {
      "image/png": "[encoded data removed]",
      "text/plain": [
       "<Figure size 576x360 with 1 Axes>"
      ]
     },
     "metadata": {
      "needs_background": "light"
     },
     "output_type": "display_data"
    }
   ],
   "source": [
    "#lets observe start hour \n",
    "hour_count= (df_new['start_hour'].value_counts()/df_new['start_hour'].count())*100\n",
    "print('percentage count of Starting hours')\n",
    "print(hour_count.round(2).sort_values(ascending=False))\n",
    "\n",
    "# lets  plot the distribution(day of week)\n",
    "plt.figure(figsize=[8, 5])\n",
    "color_b = sb.color_palette()[0]\n",
    "sb.countplot( data = df_new, x ='start_hour', color = color_b)\n",
    "plt.title('starting Hours of the trips')\n",
    "plt.xlabel('start Hour')\n",
    "plt.show()"
   ]
  },
  {
   "cell_type": "markdown",
   "metadata": {},
   "source": [
    "As per the bar plot we see that between 8am and 9am and 5pm and 6pm is when we have the highest count meaning that thats when most trips are made assumption is morining hours people are heading to work and evening hours is when they are leaving work."
   ]
  },
  {
   "cell_type": "markdown",
   "metadata": {},
   "source": [
    "Now lets get to know the distribution of ages between various age groups"
   ]
  },
  {
   "cell_type": "code",
   "execution_count": 60,
   "metadata": {},
   "outputs": [
    {
     "data": {
      "text/html": [
       "<div>\n",
       "<style scoped>\n",
       "    .dataframe tbody tr th:only-of-type {\n",
       "        vertical-align: middle;\n",
       "    }\n",
       "\n",
       "    .dataframe tbody tr th {\n",
       "        vertical-align: top;\n",
       "    }\n",
       "\n",
       "    .dataframe thead th {\n",
       "        text-align: right;\n",
       "    }\n",
       "</style>\n",
       "<table border=\"1\" class=\"dataframe\">\n",
       "  <thead>\n",
       "    <tr style=\"text-align: right;\">\n",
       "      <th></th>\n",
       "      <th>member_age</th>\n",
       "    </tr>\n",
       "  </thead>\n",
       "  <tbody>\n",
       "    <tr>\n",
       "      <th>0</th>\n",
       "      <td>38.0</td>\n",
       "    </tr>\n",
       "    <tr>\n",
       "      <th>1</th>\n",
       "      <td>NaN</td>\n",
       "    </tr>\n",
       "    <tr>\n",
       "      <th>2</th>\n",
       "      <td>50.0</td>\n",
       "    </tr>\n",
       "    <tr>\n",
       "      <th>3</th>\n",
       "      <td>33.0</td>\n",
       "    </tr>\n",
       "    <tr>\n",
       "      <th>4</th>\n",
       "      <td>48.0</td>\n",
       "    </tr>\n",
       "  </tbody>\n",
       "</table>\n",
       "</div>"
      ],
      "text/plain": [
       "   member_age\n",
       "0        38.0\n",
       "1         NaN\n",
       "2        50.0\n",
       "3        33.0\n",
       "4        48.0"
      ]
     },
     "metadata": {},
     "output_type": "display_data"
    }
   ],
   "source": [
    "#lets create a new column member age\n",
    "df_new['member_age'] = df_new['member_birth_year'].apply(lambda x: 2022-x)\n",
    "#let drop the member birth column \n",
    "df_new.drop('member_birth_year', axis = 1 , inplace= True )\n",
    "\n",
    "display(df_new[['member_age']].head())"
   ]
  },
  {
   "cell_type": "code",
   "execution_count": 61,
   "metadata": {},
   "outputs": [],
   "source": [
    "def age_group(x):\n",
    "    if x >= 18 and x <= 28:\n",
    "          return 'Youth'\n",
    "    if x >= 29 and x <= 64:\n",
    "        return 'Adults'\n",
    "    if x >= 65:\n",
    "          return 'Eldery'\n",
    "    else:\n",
    "        return x\n"
   ]
  },
  {
   "cell_type": "code",
   "execution_count": 62,
   "metadata": {
    "scrolled": true
   },
   "outputs": [],
   "source": [
    "#lets apply the above function \n",
    "df_new['age_group'] = df_new.member_age.apply(lambda x: age_group(x))"
   ]
  },
  {
   "cell_type": "code",
   "execution_count": 63,
   "metadata": {},
   "outputs": [
    {
     "data": {
      "image/png": "[encoded data removed]",
      "text/plain": [
       "<Figure size 576x432 with 1 Axes>"
      ]
     },
     "metadata": {
      "needs_background": "light"
     },
     "output_type": "display_data"
    }
   ],
   "source": [
    "#lets plot the distribution\n",
    "plt.figure(figsize=[8, 6])\n",
    "color_b = sb.color_palette()[0]\n",
    "sb.countplot( data = df_new, x ='age_group', color = color_b)\n",
    "plt.title('Distribution in Age groups')\n",
    "plt.xlabel('Age Group')\n",
    "plt.show()"
   ]
  },
  {
   "cell_type": "markdown",
   "metadata": {},
   "source": [
    "As per the plot we see that the Adults are the most users of the fordgobike across all age groups and the elderly carry out the least usage "
   ]
  },
  {
   "cell_type": "markdown",
   "metadata": {},
   "source": [
    "Now lets break down member into age group in terms of various age number"
   ]
  },
  {
   "cell_type": "code",
   "execution_count": 64,
   "metadata": {},
   "outputs": [
    {
     "data": {
      "text/html": [
       "<div>\n",
       "<style scoped>\n",
       "    .dataframe tbody tr th:only-of-type {\n",
       "        vertical-align: middle;\n",
       "    }\n",
       "\n",
       "    .dataframe tbody tr th {\n",
       "        vertical-align: top;\n",
       "    }\n",
       "\n",
       "    .dataframe thead th {\n",
       "        text-align: right;\n",
       "    }\n",
       "</style>\n",
       "<table border=\"1\" class=\"dataframe\">\n",
       "  <thead>\n",
       "    <tr style=\"text-align: right;\">\n",
       "      <th></th>\n",
       "      <th>member_age_ratio</th>\n",
       "    </tr>\n",
       "  </thead>\n",
       "  <tbody>\n",
       "    <tr>\n",
       "      <th>0</th>\n",
       "      <td>31 - 40</td>\n",
       "    </tr>\n",
       "    <tr>\n",
       "      <th>1</th>\n",
       "      <td>NaN</td>\n",
       "    </tr>\n",
       "    <tr>\n",
       "      <th>2</th>\n",
       "      <td>41 - 50</td>\n",
       "    </tr>\n",
       "    <tr>\n",
       "      <th>3</th>\n",
       "      <td>31 - 40</td>\n",
       "    </tr>\n",
       "    <tr>\n",
       "      <th>4</th>\n",
       "      <td>41 - 50</td>\n",
       "    </tr>\n",
       "  </tbody>\n",
       "</table>\n",
       "</div>"
      ],
      "text/plain": [
       "  member_age_ratio\n",
       "0          31 - 40\n",
       "1              NaN\n",
       "2          41 - 50\n",
       "3          31 - 40\n",
       "4          41 - 50"
      ]
     },
     "metadata": {},
     "output_type": "display_data"
    }
   ],
   "source": [
    "max_age = str(df_new.member_age.max())\n",
    "df_new['member_age_ratio'] = df_new['member_age'].apply(lambda x :\n",
    "                                                '10 - 20' if 10<x<=20 else \n",
    "                                                  '21 - 30' if 20<x<=30 else\n",
    "                                                  '31 - 40' if 30<x<=40 else \n",
    "                                                  '41 - 50' if 40<x<=50 else\n",
    "                                                  '51 - 60' if 50<x<=60 else\n",
    "                                                  '61 - 70' if 60<x<=70 else\n",
    "                                                  '71 - 80' if 70<x<=80 else\n",
    "                                                  '81 - '+max_age if 80<x<=float(max_age) else x)\n",
    "\n",
    "df_new[['member_age']]= df_new[['member_age']].astype('float')\n",
    "display(df_new[['member_age_ratio']].head())\n"
   ]
  },
  {
   "cell_type": "code",
   "execution_count": 65,
   "metadata": {},
   "outputs": [
    {
     "data": {
      "image/png": "[encoded data removed]",
      "text/plain": [
       "<Figure size 576x432 with 1 Axes>"
      ]
     },
     "metadata": {
      "needs_background": "light"
     },
     "output_type": "display_data"
    }
   ],
   "source": [
    "\n",
    "#lets plot the distribution\n",
    "plt.figure(figsize=[8,6])\n",
    "base_color = sb.color_palette()[8]\n",
    "sb.countplot(data = df_new.sort_values(['member_age_ratio']) , x ='member_age_ratio', color =base_color)\n",
    "points = df_new.shape[0]\n",
    "members_count = df_new['member_age_ratio'].value_counts()\n",
    "locs,lables = plt.xticks()\n",
    "\n",
    "#lets plot the Bar chart\n",
    "for loc, label in zip(locs,lables):\n",
    "    count= members_count[label.get_text()]\n",
    "    string = '{:0.1f}%'.format(100*count/points)\n",
    "    plt.text(loc, count-8,string, ha = 'center')\n",
    "    \n",
    "plt.title ('Distribution Of Ages')\n",
    "plt.xlabel('Age Group(years) ')\n",
    "plt.ylabel('count')\n",
    "plt.show()"
   ]
  },
  {
   "cell_type": "markdown",
   "metadata": {},
   "source": [
    "As per the plot above we see that most people between the age of 31-40 use the fordgobike more as compared to other age ratios, while age 21-30 is the second highest."
   ]
  },
  {
   "cell_type": "markdown",
   "metadata": {},
   "source": [
    "### Discuss the distribution(s) of your variable(s) of interest. Were there any unusual points? Did you need to perform any transformations?\n",
    "\n",
    "> The variable member age, which are obtained by deducting the member birth year from the year the data was recorded—2022 i used it  to create an age group column inclusive of youth, alduts and eldery we observed that the adults are the most users of fordgobike. I had to convert the duration from seconds to minutes in order to treat the duration sec. I then applied a log transform, which resulted in a distribution that was slightly unimodal with a peak around 10 mins and a mean of around 12 mins.\n",
    "> The are summary of findings i made \n",
    "- Thursday, Tuesday, and Wednesday are the days of the week with the most trips. Compared to weekends, weekdays from Monday through Friday are when most individuals take rides.\n",
    "- Afternoon is the time of day were most trips take place followed by moring hours\n",
    "- Most users in terms of gender are the Males\n",
    "- Most people that use fordgobikes are subscribed to it \n",
    "- Most trips are done between 8-9am and 5(17)-6pm(18)\n",
    "- Most users of in terms of age group are the Adults who are between 29- 64\n",
    "- most users between the age ratio of 31-40 are the most users of ford go bike while the age ratio between 21-30 is the second highest\n",
    "\n",
    "\n",
    "\n",
    "### Of the features you investigated, were there any unusual distributions? Did you perform any operations on the data to tidy, adjust, or change the form of the data? If so, why did you do this?\n",
    "\n",
    "> Data for Ages seemed a bit off but since its what we given in the dataset i left it that because they still valid. some varibles i performed chnage of data types in order to have them more clear eg start_time convertered it to date and time from objects. i aslo added columns to the dataset that were relevant to my analysis through combination of variables that bore to columns such as day_of_week , time_of_day, age_groups, duration_min,member_age_ratio and member_age. i also dropped some columns that were not needed in my exploration "
   ]
  },
  {
   "cell_type": "markdown",
   "metadata": {},
   "source": [
    "## Bivariate Exploration\n",
    "\n"
   ]
  },
  {
   "cell_type": "markdown",
   "metadata": {},
   "source": [
    "lets observe the correlation we have between pairs of features in our data set "
   ]
  },
  {
   "cell_type": "code",
   "execution_count": 66,
   "metadata": {},
   "outputs": [
    {
     "data": {
      "image/png": "[encoded data removed]",
      "text/plain": [
       "<Figure size 576x360 with 2 Axes>"
      ]
     },
     "metadata": {
      "needs_background": "light"
     },
     "output_type": "display_data"
    }
   ],
   "source": [
    "#lets create variables and store the features\n",
    "num_fts = ['start_hour','duration_min']\n",
    "catg_fts = ['user_type','member_gender', 'day_of_week', 'time_of_day']\n",
    "\n",
    "# lets plot a correlation plot\n",
    "plt.figure(figsize= [8,5])\n",
    "sb.heatmap(df_new[num_fts].corr(), annot = True, fmt = '.3f' ,\n",
    "           cmap = 'vlag_r',center = 0)\n",
    "plt.show()\n",
    "\n"
   ]
  },
  {
   "cell_type": "code",
   "execution_count": 67,
   "metadata": {},
   "outputs": [
    {
     "data": {
      "text/plain": [
       "Text(0.5, 1.0, 'correlation of various features')"
      ]
     },
     "execution_count": 67,
     "metadata": {},
     "output_type": "execute_result"
    },
    {
     "data": {
      "image/png": "[encoded data removed]",
      "text/plain": [
       "<Figure size 360x360 with 6 Axes>"
      ]
     },
     "metadata": {
      "needs_background": "light"
     },
     "output_type": "display_data"
    }
   ],
   "source": [
    "#lets obtain a more accurate correlation :  lets sample 1834 trips\n",
    "samp = np.random.choice(df_new.shape[0], 1834, replace = False)\n",
    "new_samp = df_new.loc[samp,:]\n",
    "\n",
    "n = sb.PairGrid(data = new_samp, vars = num_fts)\n",
    "n = n.map_diag(plt.hist, bins = 10);\n",
    "n.map_offdiag(plt.scatter)\n",
    "plt.title('correlation of various features')"
   ]
  },
  {
   "cell_type": "markdown",
   "metadata": {},
   "source": [
    "As per the plots we see there aint a correlation between start_hour and duration_min.\n",
    "\n",
    "Now lets observe trip duration in relation to the age_group"
   ]
  },
  {
   "cell_type": "code",
   "execution_count": 68,
   "metadata": {},
   "outputs": [
    {
     "data": {
      "text/plain": [
       "Text(0, 0.5, 'Trip duration(mins)')"
      ]
     },
     "execution_count": 68,
     "metadata": {},
     "output_type": "execute_result"
    },
    {
     "data": {
      "image/png": "[encoded data removed]",
      "text/plain": [
       "<Figure size 720x576 with 1 Axes>"
      ]
     },
     "metadata": {
      "needs_background": "light"
     },
     "output_type": "display_data"
    }
   ],
   "source": [
    "color = ['purple','skyblue' ]\n",
    "df_new.groupby('age_group')['duration_min'].mean().plot(kind = 'bar',color=color, figsize=(10,8))\n",
    "plt.title('Average Trip duration per age group', fontsize = 18, y= 1.050)\n",
    "plt.xlabel('member age group', labelpad = 16)\n",
    "plt.ylabel('Trip duration(mins)',labelpad = 16)"
   ]
  },
  {
   "cell_type": "markdown",
   "metadata": {},
   "source": [
    "lets make it more accurat by using the member_age_ratio"
   ]
  },
  {
   "cell_type": "code",
   "execution_count": 69,
   "metadata": {},
   "outputs": [
    {
     "data": {
      "text/plain": [
       "Text(0, 0.5, 'Trip duration(mins)')"
      ]
     },
     "execution_count": 69,
     "metadata": {},
     "output_type": "execute_result"
    },
    {
     "data": {
      "image/png": "[encoded data removed]",
      "text/plain": [
       "<Figure size 720x576 with 1 Axes>"
      ]
     },
     "metadata": {
      "needs_background": "light"
     },
     "output_type": "display_data"
    }
   ],
   "source": [
    "color = ['pink','blue' ]\n",
    "df_new.groupby('member_age_ratio')['duration_min'].mean().plot(kind = 'bar',color=color, figsize=(10,8))\n",
    "plt.title('Average Trip Duration Per Age Group', fontsize = 18, y= 1.050)\n",
    "plt.xlabel('member age group', labelpad = 16)\n",
    "plt.ylabel('Trip duration(mins)',labelpad = 16)"
   ]
  },
  {
   "cell_type": "markdown",
   "metadata": {},
   "source": [
    "Even after using member age ratio we see that the ages between 21 -80 not including 80-144 as they are out the scope we see that the duration of trips is almost similar and ages 51-70 have the highest duration "
   ]
  },
  {
   "cell_type": "code",
   "execution_count": 70,
   "metadata": {},
   "outputs": [
    {
     "data": {
      "text/plain": [
       "<Figure size 1440x1440 with 0 Axes>"
      ]
     },
     "metadata": {},
     "output_type": "display_data"
    },
    {
     "data": {
      "image/png": "[encoded data removed]",
      "text/plain": [
       "<Figure size 1440x720 with 8 Axes>"
      ]
     },
     "metadata": {
      "needs_background": "light"
     },
     "output_type": "display_data"
    }
   ],
   "source": [
    "#lets plot a matrix between num_fts and catgs_fts\n",
    "#we will use a bigger sample for this one \n",
    "samp = np.random.choice(df_new.shape[0], 2000, replace = False)\n",
    "new_samp = df_new.loc[samp,:]\n",
    "\n",
    "def bgrind(x, y, **kwargs):\n",
    "    color_b = sb.color_palette()[0]\n",
    "    sb.boxplot(x, y, color = color_b)\n",
    "    plt.xticks(rotation = 30)\n",
    "plt.figure(figsize = [20,20])\n",
    "n = sb.PairGrid(data = new_samp ,y_vars = ['duration_min','member_age'], x_vars = catg_fts,\n",
    "               size = 5, aspect =1.0 )\n",
    "n.map(bgrind)\n",
    "plt.show();"
   ]
  },
  {
   "cell_type": "markdown",
   "metadata": {},
   "source": [
    "From the plot above we observe that customers seem to spend longer on trips compared to subscribers, we also observe that the male gender spend longer time on trips, while longer time on trips occur on sunday and friday, most trips happen in the morning the rest of the plot are not needed. "
   ]
  },
  {
   "cell_type": "markdown",
   "metadata": {},
   "source": [
    "Now lets continue exploring lets see the days of the week compared to use type"
   ]
  },
  {
   "cell_type": "code",
   "execution_count": 71,
   "metadata": {},
   "outputs": [
    {
     "data": {
      "text/plain": [
       "<seaborn.axisgrid.FacetGrid at 0x1ebe8cd7f40>"
      ]
     },
     "execution_count": 71,
     "metadata": {},
     "output_type": "execute_result"
    },
    {
     "data": {
      "image/png": "[encoded data removed]",
      "text/plain": [
       "<Figure size 720x360 with 2 Axes>"
      ]
     },
     "metadata": {
      "needs_background": "light"
     },
     "output_type": "display_data"
    }
   ],
   "source": [
    "n = sb.catplot(data = df_new , x='day_of_week',col='user_type', kind = 'count',\n",
    "              sharey = False, color ='orange',order = weekday)\n",
    "n.set_axis_labels(\"Days of the weeks\",\"Rides\")\n",
    "n.set_titles(\"{col_name}\")\n",
    "n.fig.suptitle('User Type Day of the week FordGoBike Usage')\n",
    "n.set_xticklabels(rotation = 45)\n"
   ]
  },
  {
   "cell_type": "markdown",
   "metadata": {},
   "source": [
    "As per the grapth we view that Thurday on both the customer plot and subsciber they both have most trips , we can aslo view that subscribers use the servcies mainly on the weekdays will little usage on the weekend, on the customer side we see that they mostly use the services on weekends while an average rate on weekdays(working days) from this we can conclude that subscribers use the services to commute from home to work and vice verse while customer do so druing weekends most probably for reactional activities"
   ]
  },
  {
   "cell_type": "markdown",
   "metadata": {},
   "source": [
    "Now lets comapre time of the day with user type"
   ]
  },
  {
   "cell_type": "code",
   "execution_count": 72,
   "metadata": {},
   "outputs": [
    {
     "data": {
      "text/plain": [
       "<seaborn.axisgrid.FacetGrid at 0x1ebf2328190>"
      ]
     },
     "execution_count": 72,
     "metadata": {},
     "output_type": "execute_result"
    },
    {
     "data": {
      "image/png": "[encoded data removed]",
      "text/plain": [
       "<Figure size 720x360 with 2 Axes>"
      ]
     },
     "metadata": {
      "needs_background": "light"
     },
     "output_type": "display_data"
    }
   ],
   "source": [
    "day_time = ['Morning','Afternoon','Night']\n",
    "n = sb.catplot(data = df_new , x='time_of_day',col=\"user_type\", kind = 'count',\n",
    "              sharey = False, color ='blue',order = day_time)\n",
    "n.set_axis_labels(\"Time Of The Day\",\"Rides\")\n",
    "n.set_titles(\"{col_name}\")\n",
    "n.fig.suptitle('User Type Time Of The Day FordGoBike Usage', y = 1.03 , fontsize = 14)\n",
    "n.set_xticklabels(rotation = 45)"
   ]
  },
  {
   "cell_type": "markdown",
   "metadata": {},
   "source": [
    "As per we see that customers do the most trips in the afternoons ,averangely in the morning and lower trips at night while for subscribers most trips are in the morning and afterrnoon concluding that they go to work in the morning and leave in the afterrnoon most of them"
   ]
  },
  {
   "cell_type": "markdown",
   "metadata": {},
   "source": [
    "Now lets compare duration with user type"
   ]
  },
  {
   "cell_type": "code",
   "execution_count": 33,
   "metadata": {},
   "outputs": [
    {
     "data": {
      "text/html": [
       "<div>\n",
       "<style scoped>\n",
       "    .dataframe tbody tr th:only-of-type {\n",
       "        vertical-align: middle;\n",
       "    }\n",
       "\n",
       "    .dataframe tbody tr th {\n",
       "        vertical-align: top;\n",
       "    }\n",
       "\n",
       "    .dataframe thead th {\n",
       "        text-align: right;\n",
       "    }\n",
       "</style>\n",
       "<table border=\"1\" class=\"dataframe\">\n",
       "  <thead>\n",
       "    <tr style=\"text-align: right;\">\n",
       "      <th></th>\n",
       "      <th>user_type</th>\n",
       "      <th>duration_min</th>\n",
       "    </tr>\n",
       "  </thead>\n",
       "  <tbody>\n",
       "    <tr>\n",
       "      <th>0</th>\n",
       "      <td>Customer</td>\n",
       "      <td>23.874417</td>\n",
       "    </tr>\n",
       "    <tr>\n",
       "      <th>1</th>\n",
       "      <td>Subscriber</td>\n",
       "      <td>10.671061</td>\n",
       "    </tr>\n",
       "  </tbody>\n",
       "</table>\n",
       "</div>"
      ],
      "text/plain": [
       "    user_type  duration_min\n",
       "0    Customer     23.874417\n",
       "1  Subscriber     10.671061"
      ]
     },
     "metadata": {},
     "output_type": "display_data"
    },
    {
     "data": {
      "image/png": "[encoded data removed]",
      "text/plain": [
       "<Figure size 432x288 with 1 Axes>"
      ]
     },
     "metadata": {
      "needs_background": "light"
     },
     "output_type": "display_data"
    }
   ],
   "source": [
    "#lets get the trip duration mean plot\n",
    "grp_user_type = df_new[['user_type','duration_min']].groupby(['user_type'],\n",
    "                                                            as_index= False).mean()\n",
    "display(grp_user_type)\n",
    "\n",
    "sb.barplot(x = 'user_type', y = 'duration_min',data = grp_user_type)\n",
    "plt.title('Average Duration For User Type')\n",
    "plt.show()"
   ]
  },
  {
   "cell_type": "markdown",
   "metadata": {},
   "source": [
    "From the above plot we can conclude that customers take  more time to carry out a trip as compared to subscirbers and from this we can assume that csutomers are most probarbly touring the city while subscribers usage is for commuting from job to work and vice verse"
   ]
  },
  {
   "cell_type": "markdown",
   "metadata": {},
   "source": [
    "### Talk about some of the relationships you observed in this part of the investigation. How did the feature(s) of interest vary with other features in the dataset?\n",
    "\n",
    "> i was able to relate various features with another and made the following observations :\n",
    "- Ages between 21 -80 not including 80-144 as they are out the scope we see that the duration of trips is almost similar and ages 51-70 have the highest duration\n",
    "- customers seem to spend longer on trips compared to subscribers\n",
    "- The male gender spend longer time on trips\n",
    "- Thurday on both the customer plot and subsciber they both have most trips , we can aslo view that subscribers use the servcies mainly on the weekdays will little usage on the weekend, on the customer side we see that they mostly use the services on weekends while an average rate on weekdays(working days)\n",
    "- customers do the most trips in the afternoons ,averangely in the morning and lower trips at night while for subscribers most trips are in the morning and afterrnoon\n",
    "- Customers take more time to carry out a trip as compared to subscirbers \n",
    "\n",
    "### Did you observe any interesting relationships between the other features (not the main feature(s) of interest)?\n",
    "\n",
    "> I made an oberservation that was interesting notcied that the elderly are among the most users of the service which i dint expect especially those ranging between 71 - 80"
   ]
  },
  {
   "cell_type": "markdown",
   "metadata": {},
   "source": [
    "## Multivariate Exploration\n"
   ]
  },
  {
   "cell_type": "markdown",
   "metadata": {},
   "source": [
    "lets observe the daily average trip duration for each user type"
   ]
  },
  {
   "cell_type": "code",
   "execution_count": 34,
   "metadata": {},
   "outputs": [
    {
     "data": {
      "text/plain": [
       "Text(0, 0.5, 'Average Trip Duration')"
      ]
     },
     "execution_count": 34,
     "metadata": {},
     "output_type": "execute_result"
    },
    {
     "data": {
      "image/png": "[encoded data removed]",
      "text/plain": [
       "<Figure size 720x360 with 1 Axes>"
      ]
     },
     "metadata": {
      "needs_background": "light"
     },
     "output_type": "display_data"
    }
   ],
   "source": [
    "#lets get the mean\n",
    "user_weekday_min = df_new.groupby(['user_type','day_of_week']).duration_min.mean()\n",
    "user_weekday_min = user_weekday_min.reset_index()\n",
    "\n",
    "#lets plot a line plot\n",
    "plt.figure(figsize=[10,5])\n",
    "sb.lineplot(data = user_weekday_min, x = 'day_of_week', y = 'duration_min', hue ='user_type',\n",
    "           marker = 'o')\n",
    "plt.title(\"Average Trip Duration For Each User Type\")\n",
    "plt.ylabel('Average Trip Duration')"
   ]
  },
  {
   "cell_type": "markdown",
   "metadata": {},
   "source": [
    "As per the plot we conclude that customer rides took longer through out the week as comapred to the subscribers"
   ]
  },
  {
   "cell_type": "markdown",
   "metadata": {},
   "source": [
    "Now lets observe average time of duration across the time of day for various user type"
   ]
  },
  {
   "cell_type": "code",
   "execution_count": 35,
   "metadata": {
    "scrolled": true
   },
   "outputs": [
    {
     "data": {
      "text/plain": [
       "Text(0, 0.5, 'Average Trip Duration')"
      ]
     },
     "execution_count": 35,
     "metadata": {},
     "output_type": "execute_result"
    },
    {
     "data": {
      "image/png": "[encoded data removed]",
      "text/plain": [
       "<Figure size 720x360 with 1 Axes>"
      ]
     },
     "metadata": {
      "needs_background": "light"
     },
     "output_type": "display_data"
    }
   ],
   "source": [
    "user_day_min = df_new.groupby(['user_type','time_of_day']).duration_min.mean()\n",
    "user_day_min = user_day_min.reset_index()\n",
    "\n",
    "#lets plot a line plot\n",
    "plt.figure(figsize=[10,5])\n",
    "sb.lineplot(data = user_day_min, x = 'time_of_day', y = 'duration_min', hue ='user_type',\n",
    "           marker = 'o')\n",
    "plt.title(\"Average Trip Duration For Each User Type Across Time Of Day\")\n",
    "plt.ylabel('Average Trip Duration')"
   ]
  },
  {
   "cell_type": "markdown",
   "metadata": {},
   "source": [
    "As per the plot we see that customers trip duration is highest during the afternoon hence its incremental from morning as heads towards the afternoon while also for subscribers we see that afternoon is when as it the highest while both of them have there lowest duration at night"
   ]
  },
  {
   "cell_type": "markdown",
   "metadata": {},
   "source": [
    "### Talk about some of the relationships you observed in this part of the investigation. How did the feature(s) of interest vary with other features in the dataset?\n",
    "\n",
    "> By carring out the combination of user type ,duration,day of week and time of day i made the following observation :\n",
    "- Customer rides took longer through out the week as comapred to the subscribers\n",
    "- Customers trip duration is highest during the afternoon hence its incremental from morning as heads towards the afternoon while also for subscribers we see that afternoon is when as it the highest while both of them have there lowest duration at night\n",
    "\n",
    "### Did you observe any interesting relationships between the other features (not the main feature(s) of interest)?\n",
    "\n",
    "> No interesting obervation made as all i needed to know was satisfied"
   ]
  },
  {
   "cell_type": "markdown",
   "metadata": {},
   "source": [
    "## Conclusions\n",
    ">The data was a bit easy to work with as i only carried out little changes adding column by combing certain variables , changing datatypes of some variables hence this few changes made it easy to work with the data.\n",
    "\n",
    "> The main obervation made are all at the end of every exploration(Univariate, Bivariate , Multivariate)\n"
   ]
  },
  {
   "cell_type": "markdown",
   "metadata": {},
   "source": [
    "## Resources\n",
    "1. https://seaborn.pydata.org/generated/seaborn.catplot.html?highlight=catplot#seaborn.catplot\n",
    "2. https://matplotlib.org/\n",
    "3. https://stackoverflow.com/questions/12725417/drop-non-numeric-columns-from-a-pandas-dataframe\n"
   ]
  },
  {
   "cell_type": "code",
   "execution_count": 75,
   "metadata": {},
   "outputs": [],
   "source": [
    "#lets save the dataset that we have analayzed\n",
    "df_new.to_csv('fordgobike.csv',index= False)"
   ]
  }
 ],
 "metadata": {
  "kernelspec": {
   "display_name": "Python 3 (ipykernel)",
   "language": "python",
   "name": "python3"
  },
  "language_info": {
   "codemirror_mode": {
    "name": "ipython",
    "version": 3
   },
   "file_extension": ".py",
   "mimetype": "text/x-python",
   "name": "python",
   "nbconvert_exporter": "python",
   "pygments_lexer": "ipython3",
   "version": "3.10.2"
  }
 },
 "nbformat": 4,
 "nbformat_minor": 2
}
